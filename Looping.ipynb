{
 "cells": [
  {
   "cell_type": "code",
   "execution_count": 1,
   "id": "25f59711",
   "metadata": {},
   "outputs": [
    {
     "name": "stdout",
     "output_type": "stream",
     "text": [
      "48\n",
      "64\n"
     ]
    }
   ],
   "source": [
    "\"\"\"Write a code to get a integer n as input and calculate the smallest perfect power of 2 greater than n.\n",
    "Sample Input :\n",
    "48\n",
    "Sample Output :\n",
    "64\n",
    "\"\"\"\n",
    "\n",
    "n=int(input())\n",
    "powerof2=1\n",
    "while powerof2<=n:\n",
    "    powerof2 *= 2\n",
    "print(powerof2)"
   ]
  },
  {
   "cell_type": "code",
   "execution_count": 2,
   "id": "262055d8",
   "metadata": {},
   "outputs": [
    {
     "name": "stdout",
     "output_type": "stream",
     "text": [
      "124\n",
      "7\n"
     ]
    }
   ],
   "source": [
    "\"\"\"Write a code get an integer number as input and print the sum of the digits.\n",
    "Sample Input :\n",
    "124\n",
    "Sample Output :\n",
    "7\n",
    "\"\"\"\n",
    "\n",
    "n=int(input())\n",
    "r=0\n",
    "while n!=0:\n",
    "   d=n%10\n",
    "   r=d+r\n",
    "   n=n//10\n",
    "print(r)\n",
    "    "
   ]
  },
  {
   "cell_type": "code",
   "execution_count": 3,
   "id": "b8aa6f02",
   "metadata": {},
   "outputs": [
    {
     "name": "stdout",
     "output_type": "stream",
     "text": [
      "5\n",
      "1\n",
      "2\n",
      "3\n",
      "4\n",
      "5\n"
     ]
    }
   ],
   "source": [
    "\"\"\"Write a code to get an integer N and print values from 1 till N in a separate line.\n",
    "Sample Input :\n",
    "5\n",
    "Sample Output :\n",
    "1\n",
    "2\n",
    "3\n",
    "4\n",
    "5\n",
    "\"\"\"\n",
    "\n",
    "n=int(input())\n",
    "for i in range(1,n+1):\n",
    "    print(i)"
   ]
  },
  {
   "cell_type": "code",
   "execution_count": 4,
   "id": "88845b3e",
   "metadata": {},
   "outputs": [
    {
     "name": "stdout",
     "output_type": "stream",
     "text": [
      "4\n",
      "4\n",
      "4\n",
      "4\n",
      "4\n",
      "4\n"
     ]
    }
   ],
   "source": [
    "\"\"\"Write a code to get the input and print it 5 times.\n",
    "Sample Input :\n",
    "4\n",
    "Sample Output :\n",
    "4\n",
    "4\n",
    "4\n",
    "4\n",
    "4\n",
    "\"\"\"\n",
    "\n",
    "n=int(input())\n",
    "for i in range(5):\n",
    "    print(n)"
   ]
  },
  {
   "cell_type": "code",
   "execution_count": 5,
   "id": "39b97629",
   "metadata": {},
   "outputs": [
    {
     "name": "stdout",
     "output_type": "stream",
     "text": [
      "GUVI\n",
      "IVUG\n"
     ]
    }
   ],
   "source": [
    "\"\"\"Write a program to get a string as input and reverse the string without using temporary variable.\n",
    "Sample Input :\n",
    "GUVI\n",
    "Sample Output :\n",
    "IVUG\n",
    "\"\"\"\n",
    "\n",
    "s=input()\n",
    "a=s[::-1]\n",
    "print(a)"
   ]
  },
  {
   "cell_type": "code",
   "execution_count": 6,
   "id": "fe199f6c",
   "metadata": {},
   "outputs": [
    {
     "name": "stdout",
     "output_type": "stream",
     "text": [
      "2 3\n",
      "2\n",
      "2\n",
      "2\n"
     ]
    }
   ],
   "source": [
    "\"\"\"Write a code to get 2 integers A and N. Print the integer A, N times in separate line.\n",
    "Sample Input :\n",
    "2 3\n",
    "Sample Output :\n",
    "2\n",
    "2\n",
    "2\n",
    "\"\"\"\n",
    "\n",
    "a,b=list(map(int,input().split()))\n",
    "for i in range(b):\n",
    "    print(a)\n"
   ]
  },
  {
   "cell_type": "code",
   "execution_count": 7,
   "id": "567bec8d",
   "metadata": {},
   "outputs": [
    {
     "name": "stdout",
     "output_type": "stream",
     "text": [
      "2 3\n",
      "1\n"
     ]
    }
   ],
   "source": [
    "\"\"\"Write a code to get 2 integers as input and find the HCF of the 2 integer without using recursion or Euclidean algorithm.\n",
    "Sample Input :\n",
    "2 3\n",
    "Sample Output :\n",
    "1\n",
    "\"\"\"\n",
    "\n",
    "a,b=list(map(int,input().split()))\n",
    "mini=min(a,b)\n",
    "hcf=0\n",
    "for i in range(1,mini+1):\n",
    "    if a%i==0 and b%i==0:\n",
    "        hcf=i\n",
    "print(hcf)\n"
   ]
  },
  {
   "cell_type": "code",
   "execution_count": 8,
   "id": "93e30058",
   "metadata": {},
   "outputs": [
    {
     "name": "stdout",
     "output_type": "stream",
     "text": [
      "44 66\n",
      "0\n"
     ]
    }
   ],
   "source": [
    "\"\"\"Write a code to get 2 integers as input and add the integers without any carry.\n",
    "Sample Input :\n",
    "44 66\n",
    "Sample Output :\n",
    "0\n",
    "\"\"\"\n",
    "\n",
    "def add_without_carry(num1, num2):\n",
    "    # Convert numbers to strings to iterate over each digit\n",
    "    str_num1 = str(num1)\n",
    "    str_num2 = str(num2)\n",
    "    \n",
    "    # Pad the shorter number with leading zeros\n",
    "    max_len = max(len(str_num1), len(str_num2))\n",
    "    str_num1 = str_num1.zfill(max_len)\n",
    "    str_num2 = str_num2.zfill(max_len)\n",
    "    \n",
    "    result = []\n",
    "    \n",
    "    # Add each digit without carry\n",
    "    for digit1, digit2 in zip(str_num1, str_num2):\n",
    "        sum_digit = (int(digit1) + int(digit2)) % 10\n",
    "        result.append(str(sum_digit))\n",
    "    \n",
    "    # Join the result list into a string and convert to integer\n",
    "    return int(''.join(result))\n",
    "\n",
    "# Example usage\n",
    "num1,num2 = list(map(int,input().split()))\n",
    "print(add_without_carry(num1, num2))\n",
    "\n"
   ]
  },
  {
   "cell_type": "code",
   "execution_count": 9,
   "id": "318ef0fa",
   "metadata": {},
   "outputs": [
    {
     "name": "stdout",
     "output_type": "stream",
     "text": [
      "6\n",
      "2\n",
      "4\n",
      "6\n"
     ]
    }
   ],
   "source": [
    "\"\"\"Write a code to get an integer N and print the even values from 1 till N in a separate line.\n",
    "Sample Input :\n",
    "6\n",
    "Sample Output :\n",
    "2\n",
    "4\n",
    "6\n",
    "\"\"\"\n",
    "\n",
    "n=int(input())\n",
    "for i in range(1,n+1):\n",
    "    if i%2==0:\n",
    "        print(i)"
   ]
  },
  {
   "cell_type": "code",
   "execution_count": 11,
   "id": "4360f8de",
   "metadata": {},
   "outputs": [
    {
     "name": "stdout",
     "output_type": "stream",
     "text": [
      "1 2 3 4 5\n",
      "60\n"
     ]
    }
   ],
   "source": [
    "\"\"\"Write a program to get a list of integers as input and find the LCM of the values without using GCD\n",
    "Sample Input :\n",
    "1 2 3 4 5\n",
    "Sample Output :\n",
    "60\n",
    "\"\"\"\n",
    "\n",
    "\n",
    "arr=list(map(int,input().split()))\n",
    "def lcm(a,b):\n",
    "    if a>b:\n",
    "        greater=a \n",
    "    else:\n",
    "        greater=b \n",
    "    while True:\n",
    "        if greater%a==0 and greater%b==0:\n",
    "            lcmresult=greater\n",
    "            break\n",
    "        greater+=1\n",
    "    return lcmresult \n",
    "    \n",
    "def findlcm(arr):\n",
    "    result = arr[0]\n",
    "    for i in arr:\n",
    "        result=lcm(result,i)\n",
    "    return result\n",
    "print(findlcm(arr))"
   ]
  },
  {
   "cell_type": "code",
   "execution_count": 12,
   "id": "d5b365f0",
   "metadata": {},
   "outputs": [
    {
     "name": "stdout",
     "output_type": "stream",
     "text": [
      "10\n",
      "55\n"
     ]
    }
   ],
   "source": [
    "\"\"\"Write a code to get an integer N and print the sum of  values from 1 to N.\n",
    "Sample Input :\n",
    "10\n",
    "Sample Output :\n",
    "55\n",
    "\"\"\"\n",
    "\n",
    "n= int (input())\n",
    "s=0\n",
    "for i in range(n+1):\n",
    "    s=s+i\n",
    "print(s)"
   ]
  },
  {
   "cell_type": "code",
   "execution_count": 13,
   "id": "7a1341ce",
   "metadata": {},
   "outputs": [
    {
     "name": "stdout",
     "output_type": "stream",
     "text": [
      "1234\n",
      "2 4\n",
      "1 3\n"
     ]
    }
   ],
   "source": [
    "\"\"\"Write a code get an integer number as input and print the odd and even digits of the number separately.\n",
    "Sample Input :\n",
    "1234\n",
    "Sample Output :\n",
    "2 4\n",
    "1 3\n",
    "\"\"\"\n",
    "\n",
    "a=input()\n",
    "b=[]\n",
    "for i in a:\n",
    "    b.append(int(i))\n",
    "even=[]\n",
    "odd=[]\n",
    "for i in b:\n",
    "    if i%2==0:\n",
    "        even.append(i)\n",
    "    else:\n",
    "        odd.append(i)\n",
    "print(*sorted(even))\n",
    "print(*sorted(odd))"
   ]
  },
  {
   "cell_type": "code",
   "execution_count": 14,
   "id": "99cfd2de",
   "metadata": {},
   "outputs": [
    {
     "name": "stdout",
     "output_type": "stream",
     "text": [
      "348\n",
      "3 4 8\n"
     ]
    }
   ],
   "source": [
    "\"\"\"Write a code to get an integer N and print the digits of the integer.\n",
    "Sample Input :\n",
    "348\n",
    "Sample Output :\n",
    "3 4 8\n",
    "\"\"\"\n",
    "\n",
    "n=list(input())\n",
    "for i in range(1):\n",
    "    print(*n,sep=' ')"
   ]
  },
  {
   "cell_type": "code",
   "execution_count": 15,
   "id": "54012747",
   "metadata": {},
   "outputs": [
    {
     "name": "stdout",
     "output_type": "stream",
     "text": [
      "10\n",
      "10\n",
      "9\n",
      "8\n",
      "7\n",
      "6\n",
      "5\n",
      "4\n",
      "3\n",
      "2\n",
      "1\n"
     ]
    }
   ],
   "source": [
    "\"\"\"Write a code to get an integer N and print the values from N to 1.\n",
    "Sample Input :\n",
    "10\n",
    "Sample Output :\n",
    "10\n",
    "9\n",
    "8\n",
    "7\n",
    "6\n",
    "5\n",
    "4\n",
    "3\n",
    "2\n",
    "1\n",
    "\"\"\"\n",
    "\n",
    "n=int(input())\n",
    "for i in range(n,0,-1):\n",
    "    print(i)\n"
   ]
  },
  {
   "cell_type": "code",
   "execution_count": null,
   "id": "2c34fa9e",
   "metadata": {},
   "outputs": [],
   "source": []
  }
 ],
 "metadata": {
  "kernelspec": {
   "display_name": "Python 3 (ipykernel)",
   "language": "python",
   "name": "python3"
  },
  "language_info": {
   "codemirror_mode": {
    "name": "ipython",
    "version": 3
   },
   "file_extension": ".py",
   "mimetype": "text/x-python",
   "name": "python",
   "nbconvert_exporter": "python",
   "pygments_lexer": "ipython3",
   "version": "3.10.9"
  }
 },
 "nbformat": 4,
 "nbformat_minor": 5
}
